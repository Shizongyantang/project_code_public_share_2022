{
  "cells": [
    {
      "cell_type": "markdown",
      "id": "a4688825",
      "metadata": {
        "colab_type": "text",
        "id": "view-in-github"
      },
      "source": [
        "<a href=\"https://colab.research.google.com/github/ORIE5355/project_competition_public/blob/main/run_gym_headtohead.ipynb\" target=\"_parent\"><img src=\"https://colab.research.google.com/assets/colab-badge.svg\" alt=\"Open In Colab\"/></a>"
      ]
    },
    {
      "cell_type": "code",
      "execution_count": 263,
      "id": "1e30a1e2",
      "metadata": {
        "ExecuteTime": {
          "end_time": "2021-08-07T01:43:26.798549Z",
          "start_time": "2021-08-07T01:43:26.615639Z"
        },
        "id": "1e30a1e2"
      },
      "outputs": [],
      "source": [
        "import numpy as np \n",
        "import matplotlib.pyplot as plt\n",
        "import time\n",
        "from IPython import display"
      ]
    },
    {
      "cell_type": "code",
      "execution_count": 264,
      "id": "c19f063f",
      "metadata": {},
      "outputs": [
        {
          "name": "stdout",
          "output_type": "stream",
          "text": [
            "The autoreload extension is already loaded. To reload it, use:\n",
            "  %reload_ext autoreload\n"
          ]
        }
      ],
      "source": [
        "%load_ext autoreload\n",
        "%autoreload 2"
      ]
    },
    {
      "cell_type": "code",
      "execution_count": 265,
      "id": "1491d1af",
      "metadata": {
        "ExecuteTime": {
          "end_time": "2021-08-07T00:54:11.885238Z",
          "start_time": "2021-08-07T00:54:11.655533Z"
        },
        "id": "1491d1af"
      },
      "outputs": [],
      "source": [
        "import make_env"
      ]
    },
    {
      "cell_type": "code",
      "execution_count": 266,
      "id": "204379b7",
      "metadata": {},
      "outputs": [],
      "source": [
        "project_part = 1 #TODO Change this for whether you're coding for part 1 or part 2!\n",
        "agentnames = ['yourteamname', 'dummy']"
      ]
    },
    {
      "cell_type": "code",
      "execution_count": 267,
      "id": "9d7889c4",
      "metadata": {
        "ExecuteTime": {
          "end_time": "2021-08-07T00:54:12.319787Z",
          "start_time": "2021-08-07T00:54:12.215172Z"
        },
        "id": "9d7889c4"
      },
      "outputs": [],
      "source": [
        "if project_part == 1:\n",
        "    env, agents = make_env.make_env_agents(agentnames = agentnames, project_part = project_part)\n",
        "    \n",
        "else:\n",
        "    env, agents = make_env.make_env_agents(agentnames = agentnames, project_part = project_part\n",
        "    , first_file = 'data/datafile1.csv', second_file='data/datafile2.csv')\n",
        "\n",
        "# you can replace the agentnames to match whatever agentfiles you create. \n",
        "# you can use the same agentnames for both agents"
      ]
    },
    {
      "cell_type": "code",
      "execution_count": 268,
      "id": "050da6eb",
      "metadata": {
        "ExecuteTime": {
          "end_time": "2021-08-07T00:54:13.449610Z",
          "start_time": "2021-08-07T00:54:13.329182Z"
        },
        "id": "050da6eb"
      },
      "outputs": [],
      "source": [
        "T = 500\n",
        "import time"
      ]
    },
    {
      "cell_type": "code",
      "execution_count": 269,
      "id": "fc21ca5a",
      "metadata": {
        "ExecuteTime": {
          "end_time": "2021-08-07T00:54:31.959674Z",
          "start_time": "2021-08-07T00:54:31.682972Z"
        },
        "colab": {
          "base_uri": "https://localhost:8080/",
          "height": 332
        },
        "id": "fc21ca5a",
        "outputId": "5fbf1364-5a0b-47f2-a083-653b0a0c4a96"
      },
      "outputs": [
        {
          "data": {
            "image/png": "[encoded data removed]",
            "text/plain": [
              "<Figure size 432x288 with 1 Axes>"
            ]
          },
          "metadata": {},
          "output_type": "display_data"
        },
        {
          "name": "stdout",
          "output_type": "stream",
          "text": [
            "last customer covariate:  [3.865983161622104]\n",
            "last (item bought, agent bought from, prices):  (0, 1, [[3.4793848454598937], [0.9936672516805903]])\n",
            "current_profit per agent:  [6.6373402464869455, 235.58013793059806]\n",
            "Cumulative buyer utility: 2619.9421034223988\n",
            "Average per-customer runtime agent 0 in seconds: 5.1774978637695315e-06\n",
            "Average per-customer runtime agent 1 in seconds: 1.6994476318359375e-06\n"
          ]
        }
      ],
      "source": [
        "env.reset()\n",
        "customer_covariates, sale, profits = env.get_current_state_customer_to_send_agents()\n",
        "last_customer_covariates = customer_covariates\n",
        "cumulativetimes = [0 for _ in agents]\n",
        "\n",
        "fig, ax = plt.subplots(figsize=(20, 10))\n",
        "for t in range(0, T):\n",
        "    actions = []\n",
        "    for enoutside, agent in enumerate(agents):\n",
        "      ts = time.time()\n",
        "      action = agent.action((customer_covariates, sale, profits))\n",
        "      assert len(action) == project_part ## Have to give 1 price for each item. There is 1 item in part 1, 2 items in part 2\n",
        "      curtime = time.time()\n",
        "      cumulativetimes[enoutside] += curtime - ts\n",
        "      actions.append(action)\n",
        "    customer_covariates, sale, profits = env.step(actions)\n",
        "    newplot = env.render(True)\n",
        "    if newplot:\n",
        "      display.clear_output(wait=True)\n",
        "      display.display(plt.gcf())\n",
        "    print('last customer covariate: ', last_customer_covariates)\n",
        "    print('last (item bought, agent bought from, prices): ', sale)\n",
        "    print('current_profit per agent: ', profits)\n",
        "    last_customer_covariates = customer_covariates\n",
        "plt.close()\n",
        "print(\"Cumulative buyer utility: {}\".format(env.cumulative_buyer_utility))\n",
        "print(\"Average per-customer runtime agent 0 in seconds: {}\".format(cumulativetimes[0]/T))\n",
        "print(\"Average per-customer runtime agent 1 in seconds: {}\".format(cumulativetimes[1]/T))"
      ]
    },
    {
      "cell_type": "code",
      "execution_count": null,
      "id": "cc88fcfb",
      "metadata": {},
      "outputs": [],
      "source": []
    }
  ],
  "metadata": {
    "colab": {
      "include_colab_link": true,
      "name": "run_gym_headtohead_localcomputer.ipynb",
      "provenance": []
    },
    "kernelspec": {
      "display_name": "Python 3.10.6 ('base')",
      "language": "python",
      "name": "python3"
    },
    "language_info": {
      "codemirror_mode": {
        "name": "ipython",
        "version": 3
      },
      "file_extension": ".py",
      "mimetype": "text/x-python",
      "name": "python",
      "nbconvert_exporter": "python",
      "pygments_lexer": "ipython3",
      "version": "3.8.8"
    },
    "varInspector": {
      "cols": {
        "lenName": 16,
        "lenType": 16,
        "lenVar": 40
      },
      "kernels_config": {
        "python": {
          "delete_cmd_postfix": "",
          "delete_cmd_prefix": "del ",
          "library": "var_list.py",
          "varRefreshCmd": "print(var_dic_list())"
        },
        "r": {
          "delete_cmd_postfix": ") ",
          "delete_cmd_prefix": "rm(",
          "library": "var_list.r",
          "varRefreshCmd": "cat(var_dic_list()) "
        }
      },
      "types_to_exclude": [
        "module",
        "function",
        "builtin_function_or_method",
        "instance",
        "_Feature"
      ],
      "window_display": false
    },
    "vscode": {
      "interpreter": {
        "hash": "73df46ec177d404a69dd943a876847378120b71a0966b441c66956db6a0c1468"
      }
    }
  },
  "nbformat": 4,
  "nbformat_minor": 5
}
